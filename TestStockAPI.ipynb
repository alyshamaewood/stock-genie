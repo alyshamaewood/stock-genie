{
 "cells": [
  {
   "cell_type": "code",
   "execution_count": 1,
   "metadata": {},
   "outputs": [],
   "source": [
    "from pandas_datareader import data as pdr\n",
    "import yfinance as yf\n",
    "import pandas as pd\n",
    "import datetime"
   ]
  },
  {
   "cell_type": "code",
   "execution_count": 20,
   "metadata": {},
   "outputs": [],
   "source": [
    "#getting updated Google stock history\n",
    "googldata = pdr.get_data_yahoo(\"GOOGL\", start=\"2020-01-01\", end=\"2021-03-16\")\n",
    "googldata.to_csv(\"googl_stock1.csv\")\n",
    "googldata.to_json(\"googl_stock1.json\")"
   ]
  },
  {
   "cell_type": "code",
   "execution_count": 21,
   "metadata": {},
   "outputs": [],
   "source": [
    "#getting updated apple stock history\n",
    "aapldata = pdr.get_data_yahoo(\"AAPL\", start=\"2020-01-01\", end='2021-03-16')\n",
    "aapldata.to_csv(\"aapl_stock1.csv\")\n",
    "aapldata.to_json(\"json_stock1.json\")"
   ]
  },
  {
   "cell_type": "code",
   "execution_count": 22,
   "metadata": {},
   "outputs": [],
   "source": [
    "#getting updated Carnival stock history\n",
    "ccldata = pdr.get_data_yahoo(\"CCL\", start=\"2020-01-01\", end=\"2021-03-16\")\n",
    "ccldata.to_json(\"ccl_stock1.json\")\n",
    "ccldata.to_csv(\"ccl_stock1.csv\")"
   ]
  },
  {
   "cell_type": "code",
   "execution_count": 23,
   "metadata": {},
   "outputs": [],
   "source": [
    "#getting updated Tesla stock history\n",
    "TSLAdata = pdr.get_data_yahoo(\"TSLA\", start=\"2020-01-01\", end=\"2021-03-16\")\n",
    "TSLAdata.to_csv(\"TSLA_stock1.csv\")\n",
    "TSLAdata.to_json(\"TSLA_stock1.json\")"
   ]
  },
  {
   "cell_type": "code",
   "execution_count": 24,
   "metadata": {},
   "outputs": [],
   "source": [
    "#getting updated Microsoft stock history\n",
    "msftdata = pdr.get_data_yahoo(\"MSFT\", start=\"2020-01-01\", end=\"2021-03-16\")\n",
    "msftdata.to_csv(\"MSFT_stock1.csv\")\n",
    "msftdata.to_json(\"MSFT_stock1.json\")"
   ]
  },
  {
   "cell_type": "code",
   "execution_count": 11,
   "metadata": {},
   "outputs": [],
   "source": [
    "#getting apple recommendations\n",
    "aapl = yf.Ticker(\"AAPL\")\n",
    "aapl_rec = aapl.recommendations\n",
    "aapl_rec.to_csv(\"aapl_rec.csv\")"
   ]
  },
  {
   "cell_type": "code",
   "execution_count": 17,
   "metadata": {},
   "outputs": [],
   "source": [
    "#getting Carnival recommendations\n",
    "ccl = yf.Ticker(\"CCL\")\n",
    "ccl_rec = ccl.recommendations\n",
    "ccl_rec.to_csv(\"ccl_rec.csv\")"
   ]
  },
  {
   "cell_type": "code",
   "execution_count": 18,
   "metadata": {},
   "outputs": [],
   "source": [
    "#getting Microsoft recommendations\n",
    "msft = yf.Ticker(\"MSFT\")\n",
    "msft_rec = msft.recommendations\n",
    "msft_rec.to_csv(\"msft_rec.csv\")"
   ]
  },
  {
   "cell_type": "code",
   "execution_count": 19,
   "metadata": {},
   "outputs": [],
   "source": [
    "#getting Telsa recommendations\n",
    "tsla = yf.Ticker(\"TSLA\")\n",
    "tsla_rec = tsla.recommendations\n",
    "tsla_rec.to_csv(\"tsla_rec.csv\")"
   ]
  }
 ],
 "metadata": {
  "kernelspec": {
   "display_name": "Python 3",
   "language": "python",
   "name": "python3"
  },
  "language_info": {
   "codemirror_mode": {
    "name": "ipython",
    "version": 3
   },
   "file_extension": ".py",
   "mimetype": "text/x-python",
   "name": "python",
   "nbconvert_exporter": "python",
   "pygments_lexer": "ipython3",
   "version": "3.8.3"
  }
 },
 "nbformat": 4,
 "nbformat_minor": 4
}
